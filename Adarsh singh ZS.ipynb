{
 "cells": [
  {
   "cell_type": "code",
   "execution_count": 611,
   "metadata": {},
   "outputs": [],
   "source": [
    "import pandas as pd\n",
    "import numpy as np\n",
    "import gensim\n",
    "from sklearn.preprocessing import StandardScaler,LabelEncoder"
   ]
  },
  {
   "cell_type": "code",
   "execution_count": 612,
   "metadata": {},
   "outputs": [],
   "source": [
    "train=pd.read_csv('train_file.csv')"
   ]
  },
  {
   "cell_type": "code",
   "execution_count": 613,
   "metadata": {},
   "outputs": [
    {
     "data": {
      "text/html": [
       "<div>\n",
       "<style scoped>\n",
       "    .dataframe tbody tr th:only-of-type {\n",
       "        vertical-align: middle;\n",
       "    }\n",
       "\n",
       "    .dataframe tbody tr th {\n",
       "        vertical-align: top;\n",
       "    }\n",
       "\n",
       "    .dataframe thead th {\n",
       "        text-align: right;\n",
       "    }\n",
       "</style>\n",
       "<table border=\"1\" class=\"dataframe\">\n",
       "  <thead>\n",
       "    <tr style=\"text-align: right;\">\n",
       "      <th></th>\n",
       "      <th>IDLink</th>\n",
       "      <th>Title</th>\n",
       "      <th>Headline</th>\n",
       "      <th>Source</th>\n",
       "      <th>Topic</th>\n",
       "      <th>PublishDate</th>\n",
       "      <th>Facebook</th>\n",
       "      <th>GooglePlus</th>\n",
       "      <th>LinkedIn</th>\n",
       "      <th>SentimentTitle</th>\n",
       "      <th>SentimentHeadline</th>\n",
       "    </tr>\n",
       "  </thead>\n",
       "  <tbody>\n",
       "    <tr>\n",
       "      <th>0</th>\n",
       "      <td>Tr3CMgRv1N</td>\n",
       "      <td>Obama Lays Wreath at Arlington National Cemetery</td>\n",
       "      <td>Obama Lays Wreath at Arlington National Cemete...</td>\n",
       "      <td>USA TODAY</td>\n",
       "      <td>obama</td>\n",
       "      <td>2002-04-02 00:00:00</td>\n",
       "      <td>-1</td>\n",
       "      <td>-1</td>\n",
       "      <td>-1</td>\n",
       "      <td>0.000000</td>\n",
       "      <td>-0.053300</td>\n",
       "    </tr>\n",
       "    <tr>\n",
       "      <th>1</th>\n",
       "      <td>Wc81vGp8qZ</td>\n",
       "      <td>A Look at the Health of the Chinese Economy</td>\n",
       "      <td>Tim Haywood, investment director business-unit...</td>\n",
       "      <td>Bloomberg</td>\n",
       "      <td>economy</td>\n",
       "      <td>2008-09-20 00:00:00</td>\n",
       "      <td>-1</td>\n",
       "      <td>-1</td>\n",
       "      <td>-1</td>\n",
       "      <td>0.208333</td>\n",
       "      <td>-0.156386</td>\n",
       "    </tr>\n",
       "    <tr>\n",
       "      <th>2</th>\n",
       "      <td>zNGH03CrZH</td>\n",
       "      <td>Nouriel Roubini: Global Economy Not Back to 2008</td>\n",
       "      <td>Nouriel Roubini, NYU professor and chairman at...</td>\n",
       "      <td>Bloomberg</td>\n",
       "      <td>economy</td>\n",
       "      <td>2012-01-28 00:00:00</td>\n",
       "      <td>-1</td>\n",
       "      <td>-1</td>\n",
       "      <td>-1</td>\n",
       "      <td>-0.425210</td>\n",
       "      <td>0.139754</td>\n",
       "    </tr>\n",
       "    <tr>\n",
       "      <th>3</th>\n",
       "      <td>3sM1H0W8ts</td>\n",
       "      <td>Finland GDP Expands In Q4</td>\n",
       "      <td>Finland's economy expanded marginally in the t...</td>\n",
       "      <td>RTT News</td>\n",
       "      <td>economy</td>\n",
       "      <td>2015-03-01 00:06:00</td>\n",
       "      <td>-1</td>\n",
       "      <td>-1</td>\n",
       "      <td>-1</td>\n",
       "      <td>0.000000</td>\n",
       "      <td>0.026064</td>\n",
       "    </tr>\n",
       "    <tr>\n",
       "      <th>4</th>\n",
       "      <td>wUbnxgvqaZ</td>\n",
       "      <td>Tourism, govt spending buoys Thai economy in J...</td>\n",
       "      <td>Tourism and public spending continued to boost...</td>\n",
       "      <td>The Nation - Thailand&amp;#39;s English news</td>\n",
       "      <td>economy</td>\n",
       "      <td>2015-03-01 00:11:00</td>\n",
       "      <td>-1</td>\n",
       "      <td>-1</td>\n",
       "      <td>-1</td>\n",
       "      <td>0.000000</td>\n",
       "      <td>0.141084</td>\n",
       "    </tr>\n",
       "  </tbody>\n",
       "</table>\n",
       "</div>"
      ],
      "text/plain": [
       "       IDLink                                              Title  \\\n",
       "0  Tr3CMgRv1N   Obama Lays Wreath at Arlington National Cemetery   \n",
       "1  Wc81vGp8qZ        A Look at the Health of the Chinese Economy   \n",
       "2  zNGH03CrZH   Nouriel Roubini: Global Economy Not Back to 2008   \n",
       "3  3sM1H0W8ts                          Finland GDP Expands In Q4   \n",
       "4  wUbnxgvqaZ  Tourism, govt spending buoys Thai economy in J...   \n",
       "\n",
       "                                            Headline  \\\n",
       "0  Obama Lays Wreath at Arlington National Cemete...   \n",
       "1  Tim Haywood, investment director business-unit...   \n",
       "2  Nouriel Roubini, NYU professor and chairman at...   \n",
       "3  Finland's economy expanded marginally in the t...   \n",
       "4  Tourism and public spending continued to boost...   \n",
       "\n",
       "                                     Source    Topic          PublishDate  \\\n",
       "0                                 USA TODAY    obama  2002-04-02 00:00:00   \n",
       "1                                 Bloomberg  economy  2008-09-20 00:00:00   \n",
       "2                                 Bloomberg  economy  2012-01-28 00:00:00   \n",
       "3                                  RTT News  economy  2015-03-01 00:06:00   \n",
       "4  The Nation - Thailand&#39;s English news  economy  2015-03-01 00:11:00   \n",
       "\n",
       "   Facebook  GooglePlus  LinkedIn  SentimentTitle  SentimentHeadline  \n",
       "0        -1          -1        -1        0.000000          -0.053300  \n",
       "1        -1          -1        -1        0.208333          -0.156386  \n",
       "2        -1          -1        -1       -0.425210           0.139754  \n",
       "3        -1          -1        -1        0.000000           0.026064  \n",
       "4        -1          -1        -1        0.000000           0.141084  "
      ]
     },
     "execution_count": 613,
     "metadata": {},
     "output_type": "execute_result"
    }
   ],
   "source": [
    "train.head()"
   ]
  },
  {
   "cell_type": "code",
   "execution_count": 614,
   "metadata": {},
   "outputs": [
    {
     "name": "stdout",
     "output_type": "stream",
     "text": [
      "IDLink 55932\n",
      "Title 48963\n",
      "Headline 52112\n",
      "Source 4753\n",
      "Topic 4\n",
      "PublishDate 49602\n",
      "Facebook 2166\n",
      "GooglePlus 273\n",
      "LinkedIn 648\n",
      "SentimentTitle 10014\n",
      "SentimentHeadline 27265\n"
     ]
    }
   ],
   "source": [
    "for i in train.columns:\n",
    "    print(i,train[i].nunique())"
   ]
  },
  {
   "cell_type": "code",
   "execution_count": 615,
   "metadata": {},
   "outputs": [
    {
     "data": {
      "text/plain": [
       "IDLink                 0\n",
       "Title                  0\n",
       "Headline               0\n",
       "Source               175\n",
       "Topic                  0\n",
       "PublishDate            0\n",
       "Facebook               0\n",
       "GooglePlus             0\n",
       "LinkedIn               0\n",
       "SentimentTitle         0\n",
       "SentimentHeadline      0\n",
       "dtype: int64"
      ]
     },
     "execution_count": 615,
     "metadata": {},
     "output_type": "execute_result"
    }
   ],
   "source": [
    "train.describe()\n",
    "train.isnull().sum()"
   ]
  },
  {
   "cell_type": "markdown",
   "metadata": {},
   "source": [
    "PreProcessing of Attribute Title"
   ]
  },
  {
   "cell_type": "code",
   "execution_count": 616,
   "metadata": {},
   "outputs": [
    {
     "data": {
      "text/plain": [
       "['obama',\n",
       " 'lays',\n",
       " 'wreath',\n",
       " 'arlington',\n",
       " 'national',\n",
       " 'cemetery',\n",
       " 'look',\n",
       " 'health',\n",
       " 'chinese',\n",
       " 'economy']"
      ]
     },
     "execution_count": 616,
     "metadata": {},
     "output_type": "execute_result"
    }
   ],
   "source": [
    "# list ofString in Title\n",
    "titles_list = [title for title in train['Title']]\n",
    "\n",
    "# Collapse the list of strings into a single long string for processing\n",
    "big_title_string = ' '.join(titles_list)\n",
    "\n",
    "from nltk.tokenize import word_tokenize\n",
    "\n",
    "# converting string into words\n",
    "tokens = word_tokenize(big_title_string)\n",
    "\n",
    "# Remove non-alphabetic tokens, such as punctuation\n",
    "words = [word.lower() for word in tokens if word.isalpha()]\n",
    "\n",
    "# Filter out stopwords, exampe At, for, in , is for getting relevant words\n",
    "from nltk.corpus import stopwords\n",
    "stop_words = set(stopwords.words('english'))\n",
    "\n",
    "words = [word for word in words if not word in stop_words]\n",
    "\n",
    "# Print first 10 words\n",
    "words[:10]"
   ]
  },
  {
   "cell_type": "code",
   "execution_count": 10,
   "metadata": {},
   "outputs": [
    {
     "name": "stderr",
     "output_type": "stream",
     "text": [
      "C:\\Users\\Adarsh\\Anaconda3\\lib\\site-packages\\smart_open\\smart_open_lib.py:398: UserWarning: This function is deprecated, use smart_open.open instead. See the migration notes for details: https://github.com/RaRe-Technologies/smart_open/blob/master/README.rst#migrating-to-the-new-open-function\n",
      "  'See the migration notes for details: %s' % _MIGRATION_NOTES_URL\n"
     ]
    },
    {
     "data": {
      "text/plain": [
       "300"
      ]
     },
     "execution_count": 10,
     "metadata": {},
     "output_type": "execute_result"
    }
   ],
   "source": [
    "# Load Word2Vec model (trained on an enormous Google corpus)\n",
    "model = gensim.models.KeyedVectors.load_word2vec_format('GoogleNews-vectors-negative300.bin_2.gz', binary = True) \n",
    "\n",
    "# Check dimension of word vectors\n",
    "model.vector_size"
   ]
  },
  {
   "cell_type": "code",
   "execution_count": 617,
   "metadata": {},
   "outputs": [
    {
     "data": {
      "text/plain": [
       "(17854, 300)"
      ]
     },
     "execution_count": 617,
     "metadata": {},
     "output_type": "execute_result"
    }
   ],
   "source": [
    "# Filter the list of vectors to include only those that Word2Vec has a vector for\n",
    "vector_list = [model[word] for word in words if word in model.vocab]\n",
    "\n",
    "# Create a list of the words corresponding to these vectors\n",
    "words_filtered = [word for word in words if word in model.vocab]\n",
    "\n",
    "# Zip the words together with their vector representations\n",
    "word_vec_zip = zip(words_filtered, vector_list)\n",
    "\n",
    "# Cast to a dict so we can turn it into a dataframe\n",
    "word_vec_dict = dict(word_vec_zip)\n",
    "df = pd.DataFrame.from_dict(word_vec_dict, orient='index')\n",
    "df.shape"
   ]
  },
  {
   "cell_type": "code",
   "execution_count": 618,
   "metadata": {},
   "outputs": [
    {
     "data": {
      "text/html": [
       "<div>\n",
       "<style scoped>\n",
       "    .dataframe tbody tr th:only-of-type {\n",
       "        vertical-align: middle;\n",
       "    }\n",
       "\n",
       "    .dataframe tbody tr th {\n",
       "        vertical-align: top;\n",
       "    }\n",
       "\n",
       "    .dataframe thead th {\n",
       "        text-align: right;\n",
       "    }\n",
       "</style>\n",
       "<table border=\"1\" class=\"dataframe\">\n",
       "  <thead>\n",
       "    <tr style=\"text-align: right;\">\n",
       "      <th></th>\n",
       "      <th>0</th>\n",
       "      <th>1</th>\n",
       "      <th>2</th>\n",
       "      <th>3</th>\n",
       "      <th>4</th>\n",
       "      <th>5</th>\n",
       "      <th>6</th>\n",
       "      <th>7</th>\n",
       "      <th>8</th>\n",
       "      <th>9</th>\n",
       "      <th>...</th>\n",
       "      <th>290</th>\n",
       "      <th>291</th>\n",
       "      <th>292</th>\n",
       "      <th>293</th>\n",
       "      <th>294</th>\n",
       "      <th>295</th>\n",
       "      <th>296</th>\n",
       "      <th>297</th>\n",
       "      <th>298</th>\n",
       "      <th>299</th>\n",
       "    </tr>\n",
       "  </thead>\n",
       "  <tbody>\n",
       "    <tr>\n",
       "      <th>obama</th>\n",
       "      <td>-0.123535</td>\n",
       "      <td>0.072266</td>\n",
       "      <td>0.171875</td>\n",
       "      <td>0.402344</td>\n",
       "      <td>-0.125977</td>\n",
       "      <td>-0.302734</td>\n",
       "      <td>-0.044922</td>\n",
       "      <td>-0.015259</td>\n",
       "      <td>0.171875</td>\n",
       "      <td>-0.043457</td>\n",
       "      <td>...</td>\n",
       "      <td>-0.055420</td>\n",
       "      <td>-0.138672</td>\n",
       "      <td>-0.064453</td>\n",
       "      <td>-0.104004</td>\n",
       "      <td>-0.267578</td>\n",
       "      <td>-0.205078</td>\n",
       "      <td>-0.111816</td>\n",
       "      <td>-0.022461</td>\n",
       "      <td>0.066895</td>\n",
       "      <td>0.026855</td>\n",
       "    </tr>\n",
       "    <tr>\n",
       "      <th>lays</th>\n",
       "      <td>-0.052246</td>\n",
       "      <td>-0.057373</td>\n",
       "      <td>0.193359</td>\n",
       "      <td>-0.106934</td>\n",
       "      <td>0.298828</td>\n",
       "      <td>-0.166016</td>\n",
       "      <td>0.137695</td>\n",
       "      <td>0.125000</td>\n",
       "      <td>-0.032227</td>\n",
       "      <td>-0.096191</td>\n",
       "      <td>...</td>\n",
       "      <td>-0.172852</td>\n",
       "      <td>-0.484375</td>\n",
       "      <td>-0.228516</td>\n",
       "      <td>0.168945</td>\n",
       "      <td>-0.291016</td>\n",
       "      <td>0.003647</td>\n",
       "      <td>0.041016</td>\n",
       "      <td>0.229492</td>\n",
       "      <td>0.248047</td>\n",
       "      <td>0.353516</td>\n",
       "    </tr>\n",
       "    <tr>\n",
       "      <th>wreath</th>\n",
       "      <td>0.166992</td>\n",
       "      <td>0.199219</td>\n",
       "      <td>-0.082031</td>\n",
       "      <td>0.142578</td>\n",
       "      <td>0.055420</td>\n",
       "      <td>-0.102539</td>\n",
       "      <td>0.103516</td>\n",
       "      <td>-0.138672</td>\n",
       "      <td>0.030884</td>\n",
       "      <td>-0.007050</td>\n",
       "      <td>...</td>\n",
       "      <td>0.015503</td>\n",
       "      <td>-0.085938</td>\n",
       "      <td>-0.173828</td>\n",
       "      <td>0.109863</td>\n",
       "      <td>0.096680</td>\n",
       "      <td>-0.102051</td>\n",
       "      <td>0.119629</td>\n",
       "      <td>-0.287109</td>\n",
       "      <td>-0.085938</td>\n",
       "      <td>0.188477</td>\n",
       "    </tr>\n",
       "    <tr>\n",
       "      <th>arlington</th>\n",
       "      <td>-0.006653</td>\n",
       "      <td>0.023926</td>\n",
       "      <td>0.141602</td>\n",
       "      <td>0.160156</td>\n",
       "      <td>0.052490</td>\n",
       "      <td>0.113281</td>\n",
       "      <td>-0.125000</td>\n",
       "      <td>-0.138672</td>\n",
       "      <td>-0.136719</td>\n",
       "      <td>0.023071</td>\n",
       "      <td>...</td>\n",
       "      <td>0.130859</td>\n",
       "      <td>0.104004</td>\n",
       "      <td>0.064453</td>\n",
       "      <td>0.068848</td>\n",
       "      <td>-0.069336</td>\n",
       "      <td>-0.137695</td>\n",
       "      <td>-0.000572</td>\n",
       "      <td>-0.125977</td>\n",
       "      <td>-0.086914</td>\n",
       "      <td>0.112793</td>\n",
       "    </tr>\n",
       "    <tr>\n",
       "      <th>national</th>\n",
       "      <td>-0.135742</td>\n",
       "      <td>0.175781</td>\n",
       "      <td>0.117188</td>\n",
       "      <td>0.078613</td>\n",
       "      <td>0.052490</td>\n",
       "      <td>-0.238281</td>\n",
       "      <td>0.092773</td>\n",
       "      <td>-0.083984</td>\n",
       "      <td>0.061523</td>\n",
       "      <td>-0.062500</td>\n",
       "      <td>...</td>\n",
       "      <td>0.034180</td>\n",
       "      <td>-0.039551</td>\n",
       "      <td>0.034424</td>\n",
       "      <td>-0.075195</td>\n",
       "      <td>0.006775</td>\n",
       "      <td>-0.110840</td>\n",
       "      <td>0.069336</td>\n",
       "      <td>-0.068359</td>\n",
       "      <td>0.032471</td>\n",
       "      <td>-0.009338</td>\n",
       "    </tr>\n",
       "  </tbody>\n",
       "</table>\n",
       "<p>5 rows × 300 columns</p>\n",
       "</div>"
      ],
      "text/plain": [
       "                0         1         2         3         4         5    \\\n",
       "obama     -0.123535  0.072266  0.171875  0.402344 -0.125977 -0.302734   \n",
       "lays      -0.052246 -0.057373  0.193359 -0.106934  0.298828 -0.166016   \n",
       "wreath     0.166992  0.199219 -0.082031  0.142578  0.055420 -0.102539   \n",
       "arlington -0.006653  0.023926  0.141602  0.160156  0.052490  0.113281   \n",
       "national  -0.135742  0.175781  0.117188  0.078613  0.052490 -0.238281   \n",
       "\n",
       "                6         7         8         9    ...       290       291  \\\n",
       "obama     -0.044922 -0.015259  0.171875 -0.043457  ... -0.055420 -0.138672   \n",
       "lays       0.137695  0.125000 -0.032227 -0.096191  ... -0.172852 -0.484375   \n",
       "wreath     0.103516 -0.138672  0.030884 -0.007050  ...  0.015503 -0.085938   \n",
       "arlington -0.125000 -0.138672 -0.136719  0.023071  ...  0.130859  0.104004   \n",
       "national   0.092773 -0.083984  0.061523 -0.062500  ...  0.034180 -0.039551   \n",
       "\n",
       "                292       293       294       295       296       297  \\\n",
       "obama     -0.064453 -0.104004 -0.267578 -0.205078 -0.111816 -0.022461   \n",
       "lays      -0.228516  0.168945 -0.291016  0.003647  0.041016  0.229492   \n",
       "wreath    -0.173828  0.109863  0.096680 -0.102051  0.119629 -0.287109   \n",
       "arlington  0.064453  0.068848 -0.069336 -0.137695 -0.000572 -0.125977   \n",
       "national   0.034424 -0.075195  0.006775 -0.110840  0.069336 -0.068359   \n",
       "\n",
       "                298       299  \n",
       "obama      0.066895  0.026855  \n",
       "lays       0.248047  0.353516  \n",
       "wreath    -0.085938  0.188477  \n",
       "arlington -0.086914  0.112793  \n",
       "national   0.032471 -0.009338  \n",
       "\n",
       "[5 rows x 300 columns]"
      ]
     },
     "execution_count": 618,
     "metadata": {},
     "output_type": "execute_result"
    }
   ],
   "source": [
    "df.head()"
   ]
  },
  {
   "cell_type": "markdown",
   "metadata": {},
   "source": [
    "Reducing the Dimensinality #PCA or #TSNE"
   ]
  },
  {
   "cell_type": "code",
   "execution_count": 619,
   "metadata": {},
   "outputs": [],
   "source": [
    "from sklearn.manifold import TSNE\n",
    "\n",
    "# Initialize t-SNE\n",
    "tsne = TSNE(n_components = 2, init = 'random', random_state = 10, perplexity = 100)\n",
    "\n",
    "# Use only 400 rows to shorten processing time\n",
    "tsne_df = tsne.fit_transform(df[:400])"
   ]
  },
  {
   "cell_type": "code",
   "execution_count": 620,
   "metadata": {},
   "outputs": [],
   "source": [
    "def document_vector(word2vec_model, doc):\n",
    "    # remove out-of-vocabulary words\n",
    "    doc = [word for word in doc if word in model.vocab]\n",
    "    return np.mean(model[doc], axis=0)\n",
    "\n",
    "# Our earlier preprocessing was done when we were dealing only with word vectors\n",
    "# Here, we need each document to remain a document\n",
    "def preprocess(text):\n",
    "    text = text.lower()\n",
    "    doc = word_tokenize(text)\n",
    "    doc = [word for word in doc if word not in stop_words]\n",
    "    doc = [word for word in doc if word.isalpha()] \n",
    "    return doc\n",
    "\n",
    "# Function that will help us drop documents that have no word vectors in word2vec\n",
    "def has_vector_representation(word2vec_model, doc):\n",
    "    \"\"\"check if at least one word of the document is in the\n",
    "    word2vec dictionary\"\"\"\n",
    "    return not all(word not in word2vec_model.vocab for word in doc)\n",
    "\n",
    "# Filter out documents\n",
    "def filter_docs(corpus, texts, condition_on_doc):\n",
    "    \"\"\"\n",
    "    Filter corpus and texts given the function condition_on_doc which takes\n",
    "    a doc. The document doc is kept if condition_on_doc(doc) is true.\n",
    "    \"\"\"\n",
    "    number_of_docs = len(corpus)\n",
    "\n",
    "    if texts is not None:\n",
    "        texts = [text for (text, doc) in zip(texts, corpus)\n",
    "                 if condition_on_doc(doc)]\n",
    "\n",
    "    corpus = [doc for doc in corpus if condition_on_doc(doc)]\n",
    "\n",
    "    print(\"{} docs removed\".format(number_of_docs - len(corpus)))\n",
    "\n",
    "    return (corpus, texts)"
   ]
  },
  {
   "cell_type": "code",
   "execution_count": 621,
   "metadata": {},
   "outputs": [
    {
     "name": "stdout",
     "output_type": "stream",
     "text": [
      "27 docs removed\n",
      "0 docs removed\n"
     ]
    }
   ],
   "source": [
    "# Preprocess the corpus\n",
    "corpus = [preprocess(title) for title in titles_list]\n",
    "\n",
    "# Remove docs that don't include any words in W2V's vocab\n",
    "corpus, titles_list = filter_docs(corpus, titles_list, lambda doc: has_vector_representation(model, doc))\n",
    "\n",
    "# Filter out any empty docs\n",
    "corpus, titles_list = filter_docs(corpus, titles_list, lambda doc: (len(doc) != 0))"
   ]
  },
  {
   "cell_type": "code",
   "execution_count": 622,
   "metadata": {},
   "outputs": [],
   "source": [
    "# Initialize an array for the size of the corpus\n",
    "x = []\n",
    "for doc in corpus: # append the vector for each document\n",
    "    x.append(document_vector(model, doc))\n",
    "    \n",
    "X = np.array(x) # list to array"
   ]
  },
  {
   "cell_type": "code",
   "execution_count": 623,
   "metadata": {},
   "outputs": [],
   "source": [
    "# Initialize t-SNE\n",
    "tsne = TSNE(n_components = 2, init = 'random', random_state = 10, perplexity = 100)\n",
    "\n",
    "# Use only 400 rows to shorten processing time\n",
    "tsne_df = tsne.fit_transform(X[:400])"
   ]
  },
  {
   "cell_type": "code",
   "execution_count": 624,
   "metadata": {},
   "outputs": [
    {
     "data": {
      "image/png": "[encoded data removed]",
      "text/plain": [
       "<Figure size 1008x720 with 1 Axes>"
      ]
     },
     "metadata": {
      "needs_background": "light"
     },
     "output_type": "display_data"
    }
   ],
   "source": [
    "import seaborn as sns\n",
    "from adjustText import adjust_text\n",
    "fig, ax = plt.subplots(figsize = (14, 10))\n",
    "sns.scatterplot(tsne_df[:, 0], tsne_df[:, 1], alpha = 0.5)\n",
    "\n",
    "# Second plot: Import adjustText, initialize list of texts\n",
    "from adjustText import adjust_text\n",
    "texts = []\n",
    "titles_to_plot = list(np.arange(0, 400, 40)) # plots every 40th title in first 400 titles\n",
    "\n",
    "# Append words to list\n",
    "for title in titles_to_plot:\n",
    "    texts.append(plt.text(tsne_df[title, 0], tsne_df[title, 1], titles_list[title], fontsize = 14))\n",
    "    \n",
    "# Plot text using adjust_text (because overlapping text is hard to read)\n",
    "adjust_text(texts, force_points = 0.4, force_text = 0.4, \n",
    "            expand_points = (2,1), expand_text = (1,2),\n",
    "            arrowprops = dict(arrowstyle = \"-\", color = 'black', lw = 0.5))\n",
    "\n",
    "plt.show()"
   ]
  },
  {
   "cell_type": "code",
   "execution_count": 625,
   "metadata": {},
   "outputs": [
    {
     "data": {
      "text/plain": [
       "(51819, 11)"
      ]
     },
     "execution_count": 625,
     "metadata": {},
     "output_type": "execute_result"
    }
   ],
   "source": [
    "# Drop all the rows where the article popularities are unknown (this is only about 11% of the data)\n",
    "train = train.drop(train[(train.Facebook == -1) | \n",
    "                                     (train.GooglePlus == -1) | \n",
    "                                     (train.LinkedIn == -1)].index)\n",
    "\n",
    "# Also drop all rows where we don't know the source\n",
    "train = train.drop(train[train['Source'].isna()].index)\n",
    "\n",
    "train.shape"
   ]
  },
  {
   "cell_type": "code",
   "execution_count": 626,
   "metadata": {},
   "outputs": [
    {
     "data": {
      "text/plain": [
       "count                         51819\n",
       "mean     16818 days 20:37:23.103108\n",
       "std         39 days 12:50:59.671166\n",
       "min             16747 days 05:25:00\n",
       "25%      16784 days 11:12:46.500000\n",
       "50%             16819 days 05:21:03\n",
       "75%      16852 days 22:33:05.500000\n",
       "max             16889 days 01:41:08\n",
       "Name: TimeSinceEpoch, dtype: object"
      ]
     },
     "execution_count": 626,
     "metadata": {},
     "output_type": "execute_result"
    }
   ],
   "source": [
    "import datetime\n",
    "\n",
    "# Convert publish date column to make it compatible with other datetime objects\n",
    "\n",
    "train['PublishDate'] = pd.to_datetime(train['PublishDate'])\n",
    "\n",
    "# Time since Linux Epoch\n",
    "t = datetime.datetime(1970, 1, 1)\n",
    "\n",
    "# Subtract this time from each article's publish date\n",
    "train['TimeSinceEpoch'] = train['PublishDate'] - t\n",
    "\n",
    "# Create another column for just the days from the timedelta objects \n",
    "train['DaysSinceEpoch'] = train['TimeSinceEpoch'].astype('timedelta64[D]')\n",
    "\n",
    "train['TimeSinceEpoch'].describe()"
   ]
  },
  {
   "cell_type": "code",
   "execution_count": 627,
   "metadata": {},
   "outputs": [
    {
     "data": {
      "text/html": [
       "<div>\n",
       "<style scoped>\n",
       "    .dataframe tbody tr th:only-of-type {\n",
       "        vertical-align: middle;\n",
       "    }\n",
       "\n",
       "    .dataframe tbody tr th {\n",
       "        vertical-align: top;\n",
       "    }\n",
       "\n",
       "    .dataframe thead th {\n",
       "        text-align: right;\n",
       "    }\n",
       "</style>\n",
       "<table border=\"1\" class=\"dataframe\">\n",
       "  <thead>\n",
       "    <tr style=\"text-align: right;\">\n",
       "      <th></th>\n",
       "      <th>std</th>\n",
       "      <th>min</th>\n",
       "      <th>max</th>\n",
       "    </tr>\n",
       "    <tr>\n",
       "      <th>Source</th>\n",
       "      <th></th>\n",
       "      <th></th>\n",
       "      <th></th>\n",
       "    </tr>\n",
       "  </thead>\n",
       "  <tbody>\n",
       "    <tr>\n",
       "      <th>Huffington Post</th>\n",
       "      <td>0.159768</td>\n",
       "      <td>-0.541667</td>\n",
       "      <td>0.711512</td>\n",
       "    </tr>\n",
       "    <tr>\n",
       "      <th>Washington Post</th>\n",
       "      <td>0.149456</td>\n",
       "      <td>-0.530340</td>\n",
       "      <td>0.504280</td>\n",
       "    </tr>\n",
       "    <tr>\n",
       "      <th>Reuters</th>\n",
       "      <td>0.149185</td>\n",
       "      <td>-0.585573</td>\n",
       "      <td>0.676516</td>\n",
       "    </tr>\n",
       "    <tr>\n",
       "      <th>New York Times</th>\n",
       "      <td>0.147409</td>\n",
       "      <td>-0.513870</td>\n",
       "      <td>0.662913</td>\n",
       "    </tr>\n",
       "    <tr>\n",
       "      <th>Business Insider</th>\n",
       "      <td>0.146697</td>\n",
       "      <td>-0.557338</td>\n",
       "      <td>0.573742</td>\n",
       "    </tr>\n",
       "    <tr>\n",
       "      <th>CNN</th>\n",
       "      <td>0.144589</td>\n",
       "      <td>-0.632456</td>\n",
       "      <td>0.507941</td>\n",
       "    </tr>\n",
       "    <tr>\n",
       "      <th>ABC News</th>\n",
       "      <td>0.144102</td>\n",
       "      <td>-0.424931</td>\n",
       "      <td>0.795495</td>\n",
       "    </tr>\n",
       "    <tr>\n",
       "      <th>Forbes</th>\n",
       "      <td>0.141839</td>\n",
       "      <td>-0.618718</td>\n",
       "      <td>0.399380</td>\n",
       "    </tr>\n",
       "    <tr>\n",
       "      <th>Bloomberg</th>\n",
       "      <td>0.140366</td>\n",
       "      <td>-0.571181</td>\n",
       "      <td>0.612372</td>\n",
       "    </tr>\n",
       "    <tr>\n",
       "      <th>The Guardian</th>\n",
       "      <td>0.137178</td>\n",
       "      <td>-0.465278</td>\n",
       "      <td>0.484224</td>\n",
       "    </tr>\n",
       "    <tr>\n",
       "      <th>Economic Times</th>\n",
       "      <td>0.135174</td>\n",
       "      <td>-0.497613</td>\n",
       "      <td>0.661438</td>\n",
       "    </tr>\n",
       "    <tr>\n",
       "      <th>WinBeta</th>\n",
       "      <td>0.112755</td>\n",
       "      <td>-0.324760</td>\n",
       "      <td>0.384489</td>\n",
       "    </tr>\n",
       "  </tbody>\n",
       "</table>\n",
       "</div>"
      ],
      "text/plain": [
       "                       std       min       max\n",
       "Source                                        \n",
       "Huffington Post   0.159768 -0.541667  0.711512\n",
       "Washington Post   0.149456 -0.530340  0.504280\n",
       "Reuters           0.149185 -0.585573  0.676516\n",
       "New York Times    0.147409 -0.513870  0.662913\n",
       "Business Insider  0.146697 -0.557338  0.573742\n",
       "CNN               0.144589 -0.632456  0.507941\n",
       "ABC News          0.144102 -0.424931  0.795495\n",
       "Forbes            0.141839 -0.618718  0.399380\n",
       "Bloomberg         0.140366 -0.571181  0.612372\n",
       "The Guardian      0.137178 -0.465278  0.484224\n",
       "Economic Times    0.135174 -0.497613  0.661438\n",
       "WinBeta           0.112755 -0.324760  0.384489"
      ]
     },
     "execution_count": 627,
     "metadata": {},
     "output_type": "execute_result"
    }
   ],
   "source": [
    "# Get the list of top 12 sources by number of articles\n",
    "source_names = list(train['Source'].value_counts()[:12].index)\n",
    "# Group by Source, then get descriptive statistics for title sentiment\n",
    "source_info = train.groupby('Source')['SentimentTitle'].describe()\n",
    "# Recall that `source_names` contains the top 12 sources # We'll also sort by highest Standard deviation\n",
    "source_info.loc[source_names].sort_values('std', ascending=False)[['std', 'min', 'max']]"
   ]
  },
  {
   "cell_type": "code",
   "execution_count": 628,
   "metadata": {},
   "outputs": [
    {
     "data": {
      "text/plain": [
       "4607"
      ]
     },
     "execution_count": 628,
     "metadata": {},
     "output_type": "execute_result"
    }
   ],
   "source": [
    "train['Source'].nunique()"
   ]
  },
  {
   "cell_type": "code",
   "execution_count": 629,
   "metadata": {},
   "outputs": [],
   "source": [
    "from sklearn.decomposition import PCA \n",
    "pca = PCA(n_components=15, random_state=10) \n",
    "# as a reminder, x is the array with our 300-dimensional vectors\n",
    "reduced_vecs = pca.fit_transform(x) \n",
    "df_w_vectors = pd.DataFrame(reduced_vecs) \n",
    "df_w_vectors [ 'Title'] = titles_list \n",
    "# Use pd.concat to match original titles with their vectors\n",
    "main_w_vectors = pd.concat ((df_w_vectors, train), axis = 1)\n",
    "# Get rid of vectors that could not be matched with the main_df\n",
    "main_w_vectors .dropna(axis=0, inplace=True)"
   ]
  },
  {
   "cell_type": "code",
   "execution_count": 630,
   "metadata": {},
   "outputs": [
    {
     "name": "stderr",
     "output_type": "stream",
     "text": [
      "C:\\Users\\Adarsh\\Anaconda3\\lib\\site-packages\\ipykernel_launcher.py:6: SettingWithCopyWarning: \n",
      "A value is trying to be set on a copy of a slice from a DataFrame.\n",
      "Try using .loc[row_indexer,col_indexer] = value instead\n",
      "\n",
      "See the caveats in the documentation: http://pandas.pydata.org/pandas-docs/stable/indexing.html#indexing-view-versus-copy\n",
      "  \n",
      "C:\\Users\\Adarsh\\Anaconda3\\lib\\site-packages\\ipykernel_launcher.py:12: SettingWithCopyWarning: \n",
      "A value is trying to be set on a copy of a slice from a DataFrame.\n",
      "Try using .loc[row_indexer,col_indexer] = value instead\n",
      "\n",
      "See the caveats in the documentation: http://pandas.pydata.org/pandas-docs/stable/indexing.html#indexing-view-versus-copy\n",
      "  if sys.path[0] == '':\n",
      "C:\\Users\\Adarsh\\Anaconda3\\lib\\site-packages\\ipykernel_launcher.py:13: SettingWithCopyWarning: \n",
      "A value is trying to be set on a copy of a slice from a DataFrame.\n",
      "Try using .loc[row_indexer,col_indexer] = value instead\n",
      "\n",
      "See the caveats in the documentation: http://pandas.pydata.org/pandas-docs/stable/indexing.html#indexing-view-versus-copy\n",
      "  del sys.path[0]\n",
      "C:\\Users\\Adarsh\\Anaconda3\\lib\\site-packages\\pandas\\core\\frame.py:3940: SettingWithCopyWarning: \n",
      "A value is trying to be set on a copy of a slice from a DataFrame\n",
      "\n",
      "See the caveats in the documentation: http://pandas.pydata.org/pandas-docs/stable/indexing.html#indexing-view-versus-copy\n",
      "  errors=errors)\n"
     ]
    },
    {
     "data": {
      "text/plain": [
       "count    5.179200e+04\n",
       "mean     2.493595e-14\n",
       "std      1.000010e+00\n",
       "min     -1.804643e+00\n",
       "25%     -8.680766e-01\n",
       "50%      1.786476e-02\n",
       "75%      8.531809e-01\n",
       "max      1.789748e+00\n",
       "Name: StandardizedDays, dtype: float64"
      ]
     },
     "execution_count": 630,
     "metadata": {},
     "output_type": "execute_result"
    }
   ],
   "source": [
    "# Drop all non-numeric, non-dummy columns, for feeding into the models\n",
    "cols_to_drop = ['Title', 'TimeSinceEpoch', 'Headline', 'PublishDate', 'Source'] \n",
    "le = LabelEncoder()\n",
    "data_only_df=pd.DataFrame()\n",
    "data_only_df = main_w_vectors.drop(columns = cols_to_drop) \n",
    "data_only_df['Topic'] = le.fit_transform(main_w_vectors['Topic'].astype(str))\n",
    "# Standardize DaysSinceEpoch since the raw numbers are larger in magnitude\n",
    "from sklearn.preprocessing import StandardScaler\n",
    "scaler = StandardScaler () \n",
    "# Reshape so we can feed the column to the scaler \n",
    "Standardized_days = np.array(data_only_df['DaysSinceEpoch']).reshape(-1, 1) \n",
    "data_only_df['StandardizedDays']=0.0\n",
    "data_only_df['StandardizedDays'] = scaler.fit_transform(Standardized_days) \n",
    "# Drop the raw column; we don't need it anymore \n",
    "data_only_df.drop (columns=['DaysSinceEpoch'], inplace=True)\n",
    "# Look at the new range \n",
    "data_only_df['StandardizedDays'].describe()"
   ]
  },
  {
   "cell_type": "code",
   "execution_count": 632,
   "metadata": {},
   "outputs": [
    {
     "data": {
      "text/html": [
       "<div>\n",
       "<style scoped>\n",
       "    .dataframe tbody tr th:only-of-type {\n",
       "        vertical-align: middle;\n",
       "    }\n",
       "\n",
       "    .dataframe tbody tr th {\n",
       "        vertical-align: top;\n",
       "    }\n",
       "\n",
       "    .dataframe thead th {\n",
       "        text-align: right;\n",
       "    }\n",
       "</style>\n",
       "<table border=\"1\" class=\"dataframe\">\n",
       "  <thead>\n",
       "    <tr style=\"text-align: right;\">\n",
       "      <th></th>\n",
       "      <th>0</th>\n",
       "      <th>1</th>\n",
       "      <th>2</th>\n",
       "      <th>3</th>\n",
       "      <th>4</th>\n",
       "      <th>5</th>\n",
       "      <th>6</th>\n",
       "      <th>7</th>\n",
       "      <th>8</th>\n",
       "      <th>9</th>\n",
       "      <th>...</th>\n",
       "      <th>13</th>\n",
       "      <th>14</th>\n",
       "      <th>IDLink</th>\n",
       "      <th>Topic</th>\n",
       "      <th>Facebook</th>\n",
       "      <th>GooglePlus</th>\n",
       "      <th>LinkedIn</th>\n",
       "      <th>SentimentTitle</th>\n",
       "      <th>SentimentHeadline</th>\n",
       "      <th>StandardizedDays</th>\n",
       "    </tr>\n",
       "  </thead>\n",
       "  <tbody>\n",
       "    <tr>\n",
       "      <th>726</th>\n",
       "      <td>0.609562</td>\n",
       "      <td>-0.388919</td>\n",
       "      <td>-0.134100</td>\n",
       "      <td>0.003282</td>\n",
       "      <td>0.087180</td>\n",
       "      <td>0.146272</td>\n",
       "      <td>0.125071</td>\n",
       "      <td>-0.188949</td>\n",
       "      <td>0.009642</td>\n",
       "      <td>-0.058916</td>\n",
       "      <td>...</td>\n",
       "      <td>-0.011065</td>\n",
       "      <td>0.013072</td>\n",
       "      <td>KQrodyIVM6</td>\n",
       "      <td>1</td>\n",
       "      <td>0.0</td>\n",
       "      <td>0.0</td>\n",
       "      <td>0.0</td>\n",
       "      <td>0.000000</td>\n",
       "      <td>-0.132812</td>\n",
       "      <td>-1.804643</td>\n",
       "    </tr>\n",
       "    <tr>\n",
       "      <th>727</th>\n",
       "      <td>-0.544063</td>\n",
       "      <td>-0.391277</td>\n",
       "      <td>-0.190245</td>\n",
       "      <td>-0.235133</td>\n",
       "      <td>0.079264</td>\n",
       "      <td>-0.027043</td>\n",
       "      <td>0.120542</td>\n",
       "      <td>-0.091049</td>\n",
       "      <td>-0.038410</td>\n",
       "      <td>0.018562</td>\n",
       "      <td>...</td>\n",
       "      <td>-0.084727</td>\n",
       "      <td>-0.140685</td>\n",
       "      <td>HHaBXqMwK5</td>\n",
       "      <td>0</td>\n",
       "      <td>0.0</td>\n",
       "      <td>0.0</td>\n",
       "      <td>0.0</td>\n",
       "      <td>-0.082022</td>\n",
       "      <td>0.205537</td>\n",
       "      <td>-1.804643</td>\n",
       "    </tr>\n",
       "    <tr>\n",
       "      <th>728</th>\n",
       "      <td>-0.544063</td>\n",
       "      <td>-0.391277</td>\n",
       "      <td>-0.190245</td>\n",
       "      <td>-0.235133</td>\n",
       "      <td>0.079264</td>\n",
       "      <td>-0.027043</td>\n",
       "      <td>0.120542</td>\n",
       "      <td>-0.091049</td>\n",
       "      <td>-0.038410</td>\n",
       "      <td>0.018562</td>\n",
       "      <td>...</td>\n",
       "      <td>-0.084727</td>\n",
       "      <td>-0.140685</td>\n",
       "      <td>EiT52qR2U6</td>\n",
       "      <td>0</td>\n",
       "      <td>0.0</td>\n",
       "      <td>0.0</td>\n",
       "      <td>0.0</td>\n",
       "      <td>-0.082022</td>\n",
       "      <td>0.186968</td>\n",
       "      <td>-1.804643</td>\n",
       "    </tr>\n",
       "    <tr>\n",
       "      <th>729</th>\n",
       "      <td>0.492643</td>\n",
       "      <td>-0.481539</td>\n",
       "      <td>-0.160425</td>\n",
       "      <td>-0.173713</td>\n",
       "      <td>-0.001021</td>\n",
       "      <td>0.080024</td>\n",
       "      <td>0.058417</td>\n",
       "      <td>-0.081075</td>\n",
       "      <td>0.128488</td>\n",
       "      <td>0.084086</td>\n",
       "      <td>...</td>\n",
       "      <td>-0.015959</td>\n",
       "      <td>0.046720</td>\n",
       "      <td>5A1eTAthOp</td>\n",
       "      <td>1</td>\n",
       "      <td>0.0</td>\n",
       "      <td>0.0</td>\n",
       "      <td>0.0</td>\n",
       "      <td>0.106303</td>\n",
       "      <td>-0.207333</td>\n",
       "      <td>-1.804643</td>\n",
       "    </tr>\n",
       "    <tr>\n",
       "      <th>730</th>\n",
       "      <td>-0.162859</td>\n",
       "      <td>-0.275081</td>\n",
       "      <td>0.333743</td>\n",
       "      <td>0.127973</td>\n",
       "      <td>0.147472</td>\n",
       "      <td>0.244897</td>\n",
       "      <td>-0.160805</td>\n",
       "      <td>0.249400</td>\n",
       "      <td>0.033809</td>\n",
       "      <td>-0.033376</td>\n",
       "      <td>...</td>\n",
       "      <td>-0.106713</td>\n",
       "      <td>0.044219</td>\n",
       "      <td>yEqc9EYpzX</td>\n",
       "      <td>0</td>\n",
       "      <td>1.0</td>\n",
       "      <td>0.0</td>\n",
       "      <td>0.0</td>\n",
       "      <td>0.000000</td>\n",
       "      <td>0.003189</td>\n",
       "      <td>-1.804643</td>\n",
       "    </tr>\n",
       "  </tbody>\n",
       "</table>\n",
       "<p>5 rows × 23 columns</p>\n",
       "</div>"
      ],
      "text/plain": [
       "            0         1         2         3         4         5         6  \\\n",
       "726  0.609562 -0.388919 -0.134100  0.003282  0.087180  0.146272  0.125071   \n",
       "727 -0.544063 -0.391277 -0.190245 -0.235133  0.079264 -0.027043  0.120542   \n",
       "728 -0.544063 -0.391277 -0.190245 -0.235133  0.079264 -0.027043  0.120542   \n",
       "729  0.492643 -0.481539 -0.160425 -0.173713 -0.001021  0.080024  0.058417   \n",
       "730 -0.162859 -0.275081  0.333743  0.127973  0.147472  0.244897 -0.160805   \n",
       "\n",
       "            7         8         9  ...        13        14      IDLink  Topic  \\\n",
       "726 -0.188949  0.009642 -0.058916  ... -0.011065  0.013072  KQrodyIVM6      1   \n",
       "727 -0.091049 -0.038410  0.018562  ... -0.084727 -0.140685  HHaBXqMwK5      0   \n",
       "728 -0.091049 -0.038410  0.018562  ... -0.084727 -0.140685  EiT52qR2U6      0   \n",
       "729 -0.081075  0.128488  0.084086  ... -0.015959  0.046720  5A1eTAthOp      1   \n",
       "730  0.249400  0.033809 -0.033376  ... -0.106713  0.044219  yEqc9EYpzX      0   \n",
       "\n",
       "     Facebook GooglePlus  LinkedIn  SentimentTitle  SentimentHeadline  \\\n",
       "726       0.0        0.0       0.0        0.000000          -0.132812   \n",
       "727       0.0        0.0       0.0       -0.082022           0.205537   \n",
       "728       0.0        0.0       0.0       -0.082022           0.186968   \n",
       "729       0.0        0.0       0.0        0.106303          -0.207333   \n",
       "730       1.0        0.0       0.0        0.000000           0.003189   \n",
       "\n",
       "     StandardizedDays  \n",
       "726         -1.804643  \n",
       "727         -1.804643  \n",
       "728         -1.804643  \n",
       "729         -1.804643  \n",
       "730         -1.804643  \n",
       "\n",
       "[5 rows x 23 columns]"
      ]
     },
     "execution_count": 632,
     "metadata": {},
     "output_type": "execute_result"
    }
   ],
   "source": [
    "data_only_df.head()"
   ]
  },
  {
   "cell_type": "code",
   "execution_count": 633,
   "metadata": {},
   "outputs": [
    {
     "data": {
      "text/plain": [
       "\"for i,j,k,l in zip(data_only_df['Facebook'],data_only_df['GooglePlus'],data_only_df['LinkedIn'],data_only_df['IDLink']):\\n    if i==0.0 and j==0.0 and k==0.0:\\n        print(l)\""
      ]
     },
     "execution_count": 633,
     "metadata": {},
     "output_type": "execute_result"
    }
   ],
   "source": [
    "'''for i,j,k,l in zip(data_only_df['Facebook'],data_only_df['GooglePlus'],data_only_df['LinkedIn'],data_only_df['IDLink']):\n",
    "    if i==0.0 and j==0.0 and k==0.0:\n",
    "        print(l)'''"
   ]
  },
  {
   "cell_type": "code",
   "execution_count": 634,
   "metadata": {},
   "outputs": [],
   "source": [
    "data = data_only_df.drop(data_only_df[(data_only_df.Facebook == 0.0) &\n",
    "                                     (data_only_df.GooglePlus == 0.0) & \n",
    "                                     (data_only_df.LinkedIn == 0.0)].index)"
   ]
  },
  {
   "cell_type": "code",
   "execution_count": 635,
   "metadata": {},
   "outputs": [
    {
     "data": {
      "text/html": [
       "<div>\n",
       "<style scoped>\n",
       "    .dataframe tbody tr th:only-of-type {\n",
       "        vertical-align: middle;\n",
       "    }\n",
       "\n",
       "    .dataframe tbody tr th {\n",
       "        vertical-align: top;\n",
       "    }\n",
       "\n",
       "    .dataframe thead th {\n",
       "        text-align: right;\n",
       "    }\n",
       "</style>\n",
       "<table border=\"1\" class=\"dataframe\">\n",
       "  <thead>\n",
       "    <tr style=\"text-align: right;\">\n",
       "      <th></th>\n",
       "      <th>0</th>\n",
       "      <th>1</th>\n",
       "      <th>2</th>\n",
       "      <th>3</th>\n",
       "      <th>4</th>\n",
       "      <th>5</th>\n",
       "      <th>6</th>\n",
       "      <th>7</th>\n",
       "      <th>8</th>\n",
       "      <th>9</th>\n",
       "      <th>...</th>\n",
       "      <th>13</th>\n",
       "      <th>14</th>\n",
       "      <th>IDLink</th>\n",
       "      <th>Topic</th>\n",
       "      <th>Facebook</th>\n",
       "      <th>GooglePlus</th>\n",
       "      <th>LinkedIn</th>\n",
       "      <th>SentimentTitle</th>\n",
       "      <th>SentimentHeadline</th>\n",
       "      <th>StandardizedDays</th>\n",
       "    </tr>\n",
       "  </thead>\n",
       "  <tbody>\n",
       "    <tr>\n",
       "      <th>730</th>\n",
       "      <td>-0.162859</td>\n",
       "      <td>-0.275081</td>\n",
       "      <td>0.333743</td>\n",
       "      <td>0.127973</td>\n",
       "      <td>0.147472</td>\n",
       "      <td>0.244897</td>\n",
       "      <td>-0.160805</td>\n",
       "      <td>0.249400</td>\n",
       "      <td>0.033809</td>\n",
       "      <td>-0.033376</td>\n",
       "      <td>...</td>\n",
       "      <td>-0.106713</td>\n",
       "      <td>0.044219</td>\n",
       "      <td>yEqc9EYpzX</td>\n",
       "      <td>0</td>\n",
       "      <td>1.0</td>\n",
       "      <td>0.0</td>\n",
       "      <td>0.0</td>\n",
       "      <td>0.000000</td>\n",
       "      <td>0.003189</td>\n",
       "      <td>-1.804643</td>\n",
       "    </tr>\n",
       "    <tr>\n",
       "      <th>731</th>\n",
       "      <td>-0.527954</td>\n",
       "      <td>-0.213103</td>\n",
       "      <td>0.111103</td>\n",
       "      <td>-0.046622</td>\n",
       "      <td>0.213597</td>\n",
       "      <td>-0.182757</td>\n",
       "      <td>-0.110133</td>\n",
       "      <td>-0.122952</td>\n",
       "      <td>-0.064529</td>\n",
       "      <td>-0.071210</td>\n",
       "      <td>...</td>\n",
       "      <td>-0.286004</td>\n",
       "      <td>0.135950</td>\n",
       "      <td>uPQ3s0ptH6</td>\n",
       "      <td>0</td>\n",
       "      <td>29.0</td>\n",
       "      <td>0.0</td>\n",
       "      <td>0.0</td>\n",
       "      <td>-0.232544</td>\n",
       "      <td>0.048614</td>\n",
       "      <td>-1.804643</td>\n",
       "    </tr>\n",
       "    <tr>\n",
       "      <th>732</th>\n",
       "      <td>0.319578</td>\n",
       "      <td>-0.372613</td>\n",
       "      <td>-0.036764</td>\n",
       "      <td>-0.153281</td>\n",
       "      <td>-0.080347</td>\n",
       "      <td>0.029656</td>\n",
       "      <td>0.082058</td>\n",
       "      <td>0.200495</td>\n",
       "      <td>-0.134654</td>\n",
       "      <td>-0.138717</td>\n",
       "      <td>...</td>\n",
       "      <td>-0.045027</td>\n",
       "      <td>-0.114384</td>\n",
       "      <td>sPKAqttdBt</td>\n",
       "      <td>1</td>\n",
       "      <td>6.0</td>\n",
       "      <td>0.0</td>\n",
       "      <td>1.0</td>\n",
       "      <td>-0.166139</td>\n",
       "      <td>-0.259052</td>\n",
       "      <td>-1.804643</td>\n",
       "    </tr>\n",
       "    <tr>\n",
       "      <th>734</th>\n",
       "      <td>-0.744389</td>\n",
       "      <td>-0.536269</td>\n",
       "      <td>0.022328</td>\n",
       "      <td>-0.223323</td>\n",
       "      <td>0.095652</td>\n",
       "      <td>0.034872</td>\n",
       "      <td>0.111526</td>\n",
       "      <td>-0.191040</td>\n",
       "      <td>-0.013389</td>\n",
       "      <td>0.101132</td>\n",
       "      <td>...</td>\n",
       "      <td>-0.091329</td>\n",
       "      <td>-0.089832</td>\n",
       "      <td>6p6rZ5ClPU</td>\n",
       "      <td>0</td>\n",
       "      <td>2.0</td>\n",
       "      <td>0.0</td>\n",
       "      <td>3.0</td>\n",
       "      <td>0.114820</td>\n",
       "      <td>0.256116</td>\n",
       "      <td>-1.804643</td>\n",
       "    </tr>\n",
       "    <tr>\n",
       "      <th>735</th>\n",
       "      <td>-0.230108</td>\n",
       "      <td>-0.173492</td>\n",
       "      <td>-0.581949</td>\n",
       "      <td>-0.252500</td>\n",
       "      <td>0.454792</td>\n",
       "      <td>0.186674</td>\n",
       "      <td>0.006040</td>\n",
       "      <td>-0.094398</td>\n",
       "      <td>0.002383</td>\n",
       "      <td>-0.272405</td>\n",
       "      <td>...</td>\n",
       "      <td>-0.389001</td>\n",
       "      <td>0.056607</td>\n",
       "      <td>2yErqk8lME</td>\n",
       "      <td>0</td>\n",
       "      <td>1.0</td>\n",
       "      <td>0.0</td>\n",
       "      <td>0.0</td>\n",
       "      <td>-0.001445</td>\n",
       "      <td>-0.161374</td>\n",
       "      <td>-1.804643</td>\n",
       "    </tr>\n",
       "  </tbody>\n",
       "</table>\n",
       "<p>5 rows × 23 columns</p>\n",
       "</div>"
      ],
      "text/plain": [
       "            0         1         2         3         4         5         6  \\\n",
       "730 -0.162859 -0.275081  0.333743  0.127973  0.147472  0.244897 -0.160805   \n",
       "731 -0.527954 -0.213103  0.111103 -0.046622  0.213597 -0.182757 -0.110133   \n",
       "732  0.319578 -0.372613 -0.036764 -0.153281 -0.080347  0.029656  0.082058   \n",
       "734 -0.744389 -0.536269  0.022328 -0.223323  0.095652  0.034872  0.111526   \n",
       "735 -0.230108 -0.173492 -0.581949 -0.252500  0.454792  0.186674  0.006040   \n",
       "\n",
       "            7         8         9  ...        13        14      IDLink  Topic  \\\n",
       "730  0.249400  0.033809 -0.033376  ... -0.106713  0.044219  yEqc9EYpzX      0   \n",
       "731 -0.122952 -0.064529 -0.071210  ... -0.286004  0.135950  uPQ3s0ptH6      0   \n",
       "732  0.200495 -0.134654 -0.138717  ... -0.045027 -0.114384  sPKAqttdBt      1   \n",
       "734 -0.191040 -0.013389  0.101132  ... -0.091329 -0.089832  6p6rZ5ClPU      0   \n",
       "735 -0.094398  0.002383 -0.272405  ... -0.389001  0.056607  2yErqk8lME      0   \n",
       "\n",
       "     Facebook GooglePlus  LinkedIn  SentimentTitle  SentimentHeadline  \\\n",
       "730       1.0        0.0       0.0        0.000000           0.003189   \n",
       "731      29.0        0.0       0.0       -0.232544           0.048614   \n",
       "732       6.0        0.0       1.0       -0.166139          -0.259052   \n",
       "734       2.0        0.0       3.0        0.114820           0.256116   \n",
       "735       1.0        0.0       0.0       -0.001445          -0.161374   \n",
       "\n",
       "     StandardizedDays  \n",
       "730         -1.804643  \n",
       "731         -1.804643  \n",
       "732         -1.804643  \n",
       "734         -1.804643  \n",
       "735         -1.804643  \n",
       "\n",
       "[5 rows x 23 columns]"
      ]
     },
     "execution_count": 635,
     "metadata": {},
     "output_type": "execute_result"
    }
   ],
   "source": [
    "data.head()"
   ]
  },
  {
   "cell_type": "code",
   "execution_count": 636,
   "metadata": {},
   "outputs": [
    {
     "data": {
      "text/plain": [
       "'for i in data_only_df.columns:\\n    diagnostic_plots(data_only_df, i)'"
      ]
     },
     "execution_count": 636,
     "metadata": {},
     "output_type": "execute_result"
    }
   ],
   "source": [
    "import scipy.stats as stats\n",
    "import pylab \n",
    "import matplotlib.pyplot as plt\n",
    "def diagnostic_plots(df, variable):\n",
    "    # function to plot a histogram and a Q-Q plot\n",
    "    # side by side, for a certain variable\n",
    "    \n",
    "    plt.figure(figsize=(15,6))\n",
    "    plt.subplot(1, 2, 1)\n",
    "    df[variable].hist()\n",
    "\n",
    "    plt.subplot(1, 2, 2)\n",
    "    stats.probplot(df[variable], dist=\"norm\", plot=pylab)\n",
    "\n",
    "    plt.show()\n",
    "    \n",
    "'''for i in data_only_df.columns:\n",
    "    diagnostic_plots(data_only_df, i)'''"
   ]
  },
  {
   "cell_type": "code",
   "execution_count": 637,
   "metadata": {},
   "outputs": [
    {
     "data": {
      "text/plain": [
       "SentimentTitle       1.000000\n",
       "SentimentHeadline    0.178393\n",
       "StandardizedDays     0.017243\n",
       "Topic                0.012945\n",
       "14                   0.012501\n",
       "5                    0.009930\n",
       "11                   0.009696\n",
       "12                   0.007394\n",
       "13                   0.006826\n",
       "10                   0.006666\n",
       "1                    0.000476\n",
       "4                   -0.001573\n",
       "7                   -0.001838\n",
       "LinkedIn            -0.002164\n",
       "2                   -0.003325\n",
       "Facebook            -0.004382\n",
       "0                   -0.005129\n",
       "9                   -0.007864\n",
       "6                   -0.009339\n",
       "3                   -0.011680\n",
       "8                   -0.012125\n",
       "GooglePlus          -0.013609\n",
       "Name: SentimentTitle, dtype: float64"
      ]
     },
     "execution_count": 637,
     "metadata": {},
     "output_type": "execute_result"
    }
   ],
   "source": [
    "data[data.columns[:]].corr()['SentimentTitle'][:].sort_values(ascending=False)"
   ]
  },
  {
   "cell_type": "code",
   "execution_count": 638,
   "metadata": {},
   "outputs": [
    {
     "data": {
      "text/plain": [
       "SentimentHeadline    1.000000\n",
       "SentimentTitle       0.178393\n",
       "Topic                0.025589\n",
       "0                    0.004584\n",
       "StandardizedDays     0.003394\n",
       "12                   0.001839\n",
       "8                    0.001525\n",
       "11                   0.001003\n",
       "14                   0.000037\n",
       "7                   -0.000320\n",
       "9                   -0.000334\n",
       "10                  -0.000352\n",
       "2                   -0.000823\n",
       "13                  -0.001334\n",
       "1                   -0.001595\n",
       "LinkedIn            -0.001811\n",
       "Facebook            -0.001981\n",
       "5                   -0.003173\n",
       "GooglePlus          -0.003301\n",
       "3                   -0.007449\n",
       "6                   -0.008115\n",
       "4                   -0.008564\n",
       "Name: SentimentHeadline, dtype: float64"
      ]
     },
     "execution_count": 638,
     "metadata": {},
     "output_type": "execute_result"
    }
   ],
   "source": [
    "data[data.columns[:]].corr()['SentimentHeadline'][:].sort_values(ascending=False)"
   ]
  },
  {
   "cell_type": "code",
   "execution_count": 639,
   "metadata": {},
   "outputs": [
    {
     "data": {
      "text/plain": [
       "LinkedIn            7676.084043\n",
       "GooglePlus           582.242807\n",
       "StandardizedDays       0.996413\n",
       "Topic                  0.978242\n",
       "0                      0.248991\n",
       "1                      0.195041\n",
       "2                      0.064791\n",
       "3                      0.042963\n",
       "4                      0.033404\n",
       "5                      0.029313\n",
       "6                      0.024532\n",
       "7                      0.022013\n",
       "8                      0.020615\n",
       "9                      0.018699\n",
       "dtype: float64"
      ]
     },
     "execution_count": 639,
     "metadata": {},
     "output_type": "execute_result"
    }
   ],
   "source": [
    "data[Freatures].var().sort_values(ascending=False)"
   ]
  },
  {
   "cell_type": "code",
   "execution_count": 640,
   "metadata": {},
   "outputs": [
    {
     "data": {
      "text/plain": [
       "Index([                  0,                   1,                   2,\n",
       "                         3,                   4,                   5,\n",
       "                         6,                   7,                   8,\n",
       "                         9,                  10,                  11,\n",
       "                        12,                  13,                  14,\n",
       "                  'IDLink',             'Topic',          'Facebook',\n",
       "              'GooglePlus',          'LinkedIn',    'SentimentTitle',\n",
       "       'SentimentHeadline',  'StandardizedDays'],\n",
       "      dtype='object')"
      ]
     },
     "execution_count": 640,
     "metadata": {},
     "output_type": "execute_result"
    }
   ],
   "source": [
    "data.columns"
   ]
  },
  {
   "cell_type": "code",
   "execution_count": 641,
   "metadata": {},
   "outputs": [],
   "source": [
    "def correlation(dataset, threshold):\n",
    "    col_corr = set()  # Set of all the names of correlated columns\n",
    "    corr_matrix = dataset.corr()\n",
    "    for i in range(len(corr_matrix.columns)):\n",
    "        for j in range(i):\n",
    "            if abs(corr_matrix.iloc[i, j]) > threshold: # we are interested in absolute coeff value\n",
    "                colname = corr_matrix.columns[i]  # getting the name of column\n",
    "                col_corr.add(colname)\n",
    "    return col_corr"
   ]
  },
  {
   "cell_type": "code",
   "execution_count": 642,
   "metadata": {},
   "outputs": [
    {
     "data": {
      "text/plain": [
       "set()"
      ]
     },
     "execution_count": 642,
     "metadata": {},
     "output_type": "execute_result"
    }
   ],
   "source": [
    "correlation(data,0.6)"
   ]
  },
  {
   "cell_type": "code",
   "execution_count": 643,
   "metadata": {},
   "outputs": [],
   "source": [
    "from sklearn.model_selection import StratifiedKFold\n",
    "from sklearn.ensemble import GradientBoostingRegressor,AdaBoostRegressor,RandomForestRegressor\n",
    "from sklearn import metrics\n",
    "from sklearn.tree import DecisionTreeRegressor\n",
    "from sklearn.neighbors import KNeighborsRegressor\n",
    "from sklearn.linear_model import ElasticNet,SGDRegressor\n",
    "from sklearn.model_selection import GridSearchCV"
   ]
  },
  {
   "cell_type": "code",
   "execution_count": 644,
   "metadata": {},
   "outputs": [
    {
     "name": "stdout",
     "output_type": "stream",
     "text": [
      "[0.05209374 0.0410948  0.04180322 0.05959331 0.05309776 0.04019399\n",
      " 0.04695941 0.04383019 0.07408642 0.02780471 0.04893608 0.06661633\n",
      " 0.05129742 0.03380839 0.05248017 0.06899331 0.02254884 0.01533075\n",
      " 0.09375748 0.0656737 ]\n"
     ]
    },
    {
     "data": {
      "image/png": "[encoded data removed]",
      "text/plain": [
       "<Figure size 432x288 with 1 Axes>"
      ]
     },
     "metadata": {
      "needs_background": "light"
     },
     "output_type": "display_data"
    }
   ],
   "source": [
    "Freatures=[0,1,2,3,4,5,6,7,8,9,10,11,12,13,14,'Facebook','LinkedIn','GooglePlus','StandardizedDays','Topic']\n",
    "Target_Title=['SentimentTitle']\n",
    "\n",
    "X=data[Freatures]\n",
    "Y=data[Target_Title]\n",
    "\n",
    "\n",
    "fre = RandomForestRegressor(max_depth=8,n_estimators=10,n_jobs=2)\n",
    "fre.fit(X,Y.values.ravel())\n",
    "print(fre.feature_importances_) \n",
    "feat_importances = pd.Series(fre.feature_importances_, index=X.columns)\n",
    "feat_importances.nlargest(20).plot(kind='barh')\n",
    "plt.show()"
   ]
  },
  {
   "cell_type": "code",
   "execution_count": 645,
   "metadata": {},
   "outputs": [
    {
     "name": "stdout",
     "output_type": "stream",
     "text": [
      "[0.04286061 0.04480169 0.04313487 0.0538538  0.04869789 0.05131294\n",
      " 0.05066927 0.04072419 0.06265199 0.04173505 0.05599813 0.04277385\n",
      " 0.04417887 0.04239581 0.04653897 0.05611814 0.0231511  0.02897303\n",
      " 0.0609012  0.11852861]\n"
     ]
    },
    {
     "data": {
      "image/png": "[encoded data removed]",
      "text/plain": [
       "<Figure size 432x288 with 1 Axes>"
      ]
     },
     "metadata": {
      "needs_background": "light"
     },
     "output_type": "display_data"
    }
   ],
   "source": [
    "Freatures=[0,1,2,3,4,5,6,7,8,9,10,11,12,13,14,'Facebook','LinkedIn','GooglePlus','StandardizedDays','Topic']\n",
    "Target_Headline=['SentimentHeadline']\n",
    "\n",
    "X=data[Freatures]\n",
    "Y=data[Target_Headline]\n",
    "\n",
    "\n",
    "fre = RandomForestRegressor(max_depth=8,n_estimators=100,n_jobs=2)\n",
    "fre.fit(X,Y.values.ravel())\n",
    "print(fre.feature_importances_) \n",
    "feat_importances = pd.Series(fre.feature_importances_, index=X.columns)\n",
    "feat_importances.nlargest(20).plot(kind='barh')\n",
    "plt.show()"
   ]
  },
  {
   "cell_type": "markdown",
   "metadata": {},
   "source": [
    "#PREDICTION FOR TITLES"
   ]
  },
  {
   "cell_type": "code",
   "execution_count": 648,
   "metadata": {},
   "outputs": [],
   "source": [
    "Freatures_Title=[12,6,13,0,11,14,4,'Facebook','LinkedIn','GooglePlus','StandardizedDays','Topic']"
   ]
  },
  {
   "cell_type": "code",
   "execution_count": 649,
   "metadata": {},
   "outputs": [
    {
     "data": {
      "text/plain": [
       "RandomForestRegressor(bootstrap=True, criterion='mse', max_depth=8,\n",
       "                      max_features='auto', max_leaf_nodes=None,\n",
       "                      min_impurity_decrease=0.0, min_impurity_split=None,\n",
       "                      min_samples_leaf=1, min_samples_split=2,\n",
       "                      min_weight_fraction_leaf=0.0, n_estimators=200, n_jobs=2,\n",
       "                      oob_score=False, random_state=None, verbose=0,\n",
       "                      warm_start=False)"
      ]
     },
     "execution_count": 649,
     "metadata": {},
     "output_type": "execute_result"
    }
   ],
   "source": [
    "from sklearn.model_selection import train_test_split\n",
    "#X=data_only_df.drop(['SentimentTitle','SentimentHeadline','IDLink'],axis=1)\n",
    "X=data[Freatures_Title]\n",
    "Y=data[Target_Title]\n",
    "\n",
    "X_train, X_test, y_train, y_test = train_test_split(X, Y, test_size=0.10, random_state=0 )\n",
    "\n",
    "'''parameters = {\n",
    "    \"learning_rate\": [0.01, 0.05, 0.1, 0.2],\n",
    "    \"max_depth\":[3,5,8],\n",
    "    \"max_features\":[\"log2\",\"sqrt\"],\n",
    "    \"criterion\": [\"friedman_mse\"],\n",
    "    \"subsample\":[0.5, 0.8, 0.9, 1.0],\n",
    "    \"n_estimators\":[100,500,200]\n",
    "    }'''\n",
    "\n",
    "#reg = GradientBoostingRegressor(learning_rate= 0.1,max_depth=8,subsample=1.0,n_estimators=400)\n",
    "#reg=DecisionTreeRegressor(max_depth=15)\n",
    "#reg=KNeighborsRegressor(n_neighbors=4)\n",
    "reg = RandomForestRegressor(max_depth=8,n_estimators=200,n_jobs=2)\n",
    "#reg = ElasticNet()\n",
    "#reg=SGDRegressor(max_iter=1000, tol=1e-3)\n",
    "#reg = AdaBoostRegressor(learning_rate= 0.1,n_estimators=400)\n",
    "reg.fit(X_train, y_train.values.ravel())"
   ]
  },
  {
   "cell_type": "code",
   "execution_count": 650,
   "metadata": {},
   "outputs": [
    {
     "name": "stdout",
     "output_type": "stream",
     "text": [
      "MAE:--> 0.10032608367050269\n",
      "MSE:--> 0.019224591661327676\n",
      "RMSE:--> 0.13865277372388796\n",
      "R2:--> 0.01130817336183254\n"
     ]
    }
   ],
   "source": [
    "y_pred=reg.predict(X_test)\n",
    "print('MAE:-->',metrics.mean_absolute_error(y_test, y_pred))\n",
    "print('MSE:-->',metrics.mean_squared_error(y_test, y_pred))\n",
    "print('RMSE:-->',np.sqrt(metrics.mean_squared_error(y_test, y_pred)))\n",
    "print('R2:-->',metrics.r2_score(y_test, y_pred))"
   ]
  },
  {
   "cell_type": "code",
   "execution_count": 651,
   "metadata": {},
   "outputs": [
    {
     "name": "stdout",
     "output_type": "stream",
     "text": [
      "MAE:--> 0.09631093886232572\n",
      "MSE:--> 0.017853599032975672\n",
      "RMSE:--> 0.13361736052240994\n",
      "R2:--> 0.05744785900287941\n"
     ]
    }
   ],
   "source": [
    "#training error\n",
    "train_pred=reg.predict(X_train)\n",
    "print('MAE:-->',metrics.mean_absolute_error(y_train, train_pred))\n",
    "print('MSE:-->',metrics.mean_squared_error(y_train, train_pred))\n",
    "print('RMSE:-->',np.sqrt(metrics.mean_squared_error(y_train, train_pred)))\n",
    "print('R2:-->',metrics.r2_score(y_train, train_pred))"
   ]
  },
  {
   "cell_type": "code",
   "execution_count": 177,
   "metadata": {},
   "outputs": [],
   "source": [
    "from sklearn.model_selection import cross_val_score\n",
    "scores = cross_val_score(reg, X, Y.values.ravel(), cv=5,scoring='r2')"
   ]
  },
  {
   "cell_type": "code",
   "execution_count": 178,
   "metadata": {},
   "outputs": [
    {
     "data": {
      "text/plain": [
       "0.002871078971241775"
      ]
     },
     "execution_count": 178,
     "metadata": {},
     "output_type": "execute_result"
    }
   ],
   "source": [
    "np.std(scores)"
   ]
  },
  {
   "cell_type": "code",
   "execution_count": 180,
   "metadata": {},
   "outputs": [],
   "source": [
    "import numpy as np\n",
    "import matplotlib.pyplot as plt\n",
    "from sklearn.model_selection import learning_curve\n",
    "from sklearn.metrics import r2_score"
   ]
  },
  {
   "cell_type": "code",
   "execution_count": 181,
   "metadata": {},
   "outputs": [],
   "source": [
    "#LEARNING CURVES \n",
    "def plot_learning_curve(estimator, title, X, y, ylim=(-1.5,1), cv=5, scoring='r2',obj_line=None,n_jobs=4, train_sizes=np.linspace(.1, 1.0, 5)):\n",
    "    from sklearn.model_selection import learning_curve\n",
    "    import numpy as np\n",
    "    from matplotlib import pyplot as plt\n",
    "    \n",
    "    plt.figure()\n",
    "    plt.title(title)\n",
    "    if ylim is not None:\n",
    "        plt.ylim(*ylim)\n",
    "    plt.xlabel(\"Training examples\")\n",
    "    plt.ylabel(\"Score\")\n",
    "    train_sizes, train_scores, test_scores = learning_curve(estimator, X, y, cv=cv, scoring=scoring, n_jobs=n_jobs, train_sizes=train_sizes)\n",
    "    train_scores_mean = np.mean(train_scores, axis=1)\n",
    "    train_scores_std  = np.std(train_scores, axis=1)\n",
    "    test_scores_mean  = np.mean(test_scores, axis=1)\n",
    "    test_scores_std   = np.std(test_scores, axis=1)\n",
    "    plt.grid()\n",
    "\n",
    "    plt.fill_between(train_sizes, train_scores_mean - train_scores_std, train_scores_mean + train_scores_std, alpha=0.1,color=\"r\")\n",
    "    plt.fill_between(train_sizes, test_scores_mean - test_scores_std,test_scores_mean + test_scores_std, alpha=0.1, color=\"g\")\n",
    "    plt.plot(train_sizes, train_scores_mean, 'o-', color=\"r\",label=\"Training score\")\n",
    "    plt.plot(train_sizes, test_scores_mean, 'o-', color=\"g\",label=\"Cross-validation score\")\n",
    "    \n",
    "    if obj_line:\n",
    "        plt.axhline(y=obj_line, color='blue')\n",
    "\n",
    "    plt.legend(loc=\"best\")\n",
    "    return plt"
   ]
  },
  {
   "cell_type": "code",
   "execution_count": 182,
   "metadata": {},
   "outputs": [
    {
     "data": {
      "text/plain": [
       "<module 'matplotlib.pyplot' from 'C:\\\\Users\\\\Adarsh\\\\Anaconda3\\\\lib\\\\site-packages\\\\matplotlib\\\\pyplot.py'>"
      ]
     },
     "execution_count": 182,
     "metadata": {},
     "output_type": "execute_result"
    },
    {
     "data": {
      "image/png": "[encoded data removed]",
      "text/plain": [
       "<Figure size 432x288 with 1 Axes>"
      ]
     },
     "metadata": {
      "needs_background": "light"
     },
     "output_type": "display_data"
    }
   ],
   "source": [
    "plot_learning_curve(reg,'learning curve',X,Y)"
   ]
  },
  {
   "cell_type": "markdown",
   "metadata": {},
   "source": [
    "#PREDICTION FOR HEADLINES"
   ]
  },
  {
   "cell_type": "code",
   "execution_count": 535,
   "metadata": {},
   "outputs": [],
   "source": [
    "Freatures_Headline=[7,1,3,4,6,8,5,'Facebook','LinkedIn','GooglePlus','StandardizedDays','Topic']\n",
    "Target_Headline=['SentimentHeadline']"
   ]
  },
  {
   "cell_type": "code",
   "execution_count": 536,
   "metadata": {},
   "outputs": [
    {
     "data": {
      "text/plain": [
       "GradientBoostingRegressor(alpha=0.9, criterion='friedman_mse', init=None,\n",
       "                          learning_rate=0.1, loss='ls', max_depth=8,\n",
       "                          max_features=None, max_leaf_nodes=None,\n",
       "                          min_impurity_decrease=0.0, min_impurity_split=None,\n",
       "                          min_samples_leaf=1, min_samples_split=2,\n",
       "                          min_weight_fraction_leaf=0.0, n_estimators=400,\n",
       "                          n_iter_no_change=None, presort='auto',\n",
       "                          random_state=None, subsample=1.0, tol=0.0001,\n",
       "                          validation_fraction=0.1, verbose=0, warm_start=False)"
      ]
     },
     "execution_count": 536,
     "metadata": {},
     "output_type": "execute_result"
    }
   ],
   "source": [
    "from sklearn.model_selection import train_test_split\n",
    "#X=data_only_df.drop(['SentimentTitle','SentimentHeadline','IDLink'],axis=1)\n",
    "X=data[Freatures_Headline]\n",
    "Y=data[Target_Headline]\n",
    "\n",
    "X_train, X_test, y_train, y_test = train_test_split(X, Y, test_size=0.10, random_state=0 )\n",
    "#reg_Head = GradientBoostingRegressor(learning_rate= 0.1,max_depth=8,subsample=1.0,n_estimators=400)\n",
    "reg_Head = RandomForestRegressor(max_depth=8,n_estimators=200,n_jobs=2)\n",
    "#reg_Head = AdaBoostRegressor(learning_rate= 0.1,n_estimators=400)\n",
    "reg_Head.fit(X_train, y_train.values.ravel())"
   ]
  },
  {
   "cell_type": "code",
   "execution_count": 537,
   "metadata": {},
   "outputs": [
    {
     "name": "stdout",
     "output_type": "stream",
     "text": [
      "MAE:--> 0.11791606491717141\n",
      "MSE:--> 0.02357127483713821\n",
      "RMSE:--> 0.15352939404927712\n",
      "R2:--> -0.12135117286316888\n"
     ]
    }
   ],
   "source": [
    "y_pred=reg.predict(X_test)\n",
    "print('MAE:-->',metrics.mean_absolute_error(y_test, y_pred))\n",
    "print('MSE:-->',metrics.mean_squared_error(y_test, y_pred))\n",
    "print('RMSE:-->',np.sqrt(metrics.mean_squared_error(y_test, y_pred)))\n",
    "print('R2:-->',metrics.r2_score(y_test, y_pred))"
   ]
  },
  {
   "cell_type": "code",
   "execution_count": 538,
   "metadata": {},
   "outputs": [
    {
     "name": "stdout",
     "output_type": "stream",
     "text": [
      "MAE:--> 0.07331493327208743\n",
      "MSE:--> 0.009202177627979211\n",
      "RMSE:--> 0.09592798146515547\n",
      "R2:--> 0.5481602784124381\n"
     ]
    }
   ],
   "source": [
    "#training error\n",
    "train_pred=reg_Head.predict(X_train)\n",
    "print('MAE:-->',metrics.mean_absolute_error(y_train, train_pred))\n",
    "print('MSE:-->',metrics.mean_squared_error(y_train, train_pred))\n",
    "print('RMSE:-->',np.sqrt(metrics.mean_squared_error(y_train, train_pred)))\n",
    "print('R2:-->',metrics.r2_score(y_train, train_pred))"
   ]
  },
  {
   "cell_type": "code",
   "execution_count": 187,
   "metadata": {},
   "outputs": [],
   "source": [
    "from sklearn.model_selection import cross_val_score\n",
    "scores = cross_val_score(reg_Head, X, Y.values.ravel(), cv=5,scoring='r2')"
   ]
  },
  {
   "cell_type": "code",
   "execution_count": 192,
   "metadata": {},
   "outputs": [
    {
     "data": {
      "text/plain": [
       "0.005598122318196031"
      ]
     },
     "execution_count": 192,
     "metadata": {},
     "output_type": "execute_result"
    }
   ],
   "source": [
    "np.mean(scores)"
   ]
  },
  {
   "cell_type": "code",
   "execution_count": 189,
   "metadata": {},
   "outputs": [
    {
     "data": {
      "text/plain": [
       "<module 'matplotlib.pyplot' from 'C:\\\\Users\\\\Adarsh\\\\Anaconda3\\\\lib\\\\site-packages\\\\matplotlib\\\\pyplot.py'>"
      ]
     },
     "execution_count": 189,
     "metadata": {},
     "output_type": "execute_result"
    },
    {
     "data": {
      "image/png": "[encoded data removed]",
      "text/plain": [
       "<Figure size 432x288 with 1 Axes>"
      ]
     },
     "metadata": {
      "needs_background": "light"
     },
     "output_type": "display_data"
    }
   ],
   "source": [
    "plot_learning_curve(reg_Head,'learning curve',X,Y)"
   ]
  },
  {
   "cell_type": "code",
   "execution_count": 539,
   "metadata": {},
   "outputs": [],
   "source": [
    "test=pd.read_csv('test_file.csv')"
   ]
  },
  {
   "cell_type": "code",
   "execution_count": 540,
   "metadata": {},
   "outputs": [
    {
     "data": {
      "text/plain": [
       "(37288, 9)"
      ]
     },
     "execution_count": 540,
     "metadata": {},
     "output_type": "execute_result"
    }
   ],
   "source": [
    "test.head()\n",
    "test.shape"
   ]
  },
  {
   "cell_type": "code",
   "execution_count": 541,
   "metadata": {},
   "outputs": [
    {
     "data": {
      "text/plain": [
       "['sliding',\n",
       " 'economy',\n",
       " 'fg',\n",
       " 'fights',\n",
       " 'back',\n",
       " 'tsa',\n",
       " 'funds',\n",
       " 'microsoft',\n",
       " 'shows',\n",
       " 'hololens']"
      ]
     },
     "execution_count": 541,
     "metadata": {},
     "output_type": "execute_result"
    }
   ],
   "source": [
    "# list ofString in Title\n",
    "titles_list = [title for title in test['Title']]\n",
    "\n",
    "# Collapse the list of strings into a single long string for processing\n",
    "big_title_string = ' '.join(titles_list)\n",
    "\n",
    "from nltk.tokenize import word_tokenize\n",
    "\n",
    "# converting string into words\n",
    "tokens = word_tokenize(big_title_string)\n",
    "\n",
    "# Remove non-alphabetic tokens, such as punctuation\n",
    "words = [word.lower() for word in tokens if word.isalpha()]\n",
    "\n",
    "# Filter out stopwords, exampe At, for, in , is for getting relevant words\n",
    "from nltk.corpus import stopwords\n",
    "stop_words = set(stopwords.words('english'))\n",
    "\n",
    "words = [word for word in words if not word in stop_words]\n",
    "\n",
    "# Print first 10 words\n",
    "words[:10]"
   ]
  },
  {
   "cell_type": "code",
   "execution_count": 542,
   "metadata": {},
   "outputs": [
    {
     "data": {
      "text/plain": [
       "37288"
      ]
     },
     "execution_count": 542,
     "metadata": {},
     "output_type": "execute_result"
    }
   ],
   "source": [
    "len(titles_list)"
   ]
  },
  {
   "cell_type": "code",
   "execution_count": 543,
   "metadata": {},
   "outputs": [
    {
     "data": {
      "text/plain": [
       "(15199, 300)"
      ]
     },
     "execution_count": 543,
     "metadata": {},
     "output_type": "execute_result"
    }
   ],
   "source": [
    "# Filter the list of vectors to include only those that Word2Vec has a vector for\n",
    "vector_list = [model[word] for word in words if word in model.vocab]\n",
    "\n",
    "# Create a list of the words corresponding to these vectors\n",
    "words_filtered = [word for word in words if word in model.vocab]\n",
    "\n",
    "# Zip the words together with their vector representations\n",
    "word_vec_zip = zip(words_filtered, vector_list)\n",
    "\n",
    "# Cast to a dict so we can turn it into a dataframe\n",
    "word_vec_dict = dict(word_vec_zip)\n",
    "df = pd.DataFrame.from_dict(word_vec_dict, orient='index')\n",
    "df.shape"
   ]
  },
  {
   "cell_type": "code",
   "execution_count": 544,
   "metadata": {},
   "outputs": [
    {
     "data": {
      "text/plain": [
       "15199"
      ]
     },
     "execution_count": 544,
     "metadata": {},
     "output_type": "execute_result"
    }
   ],
   "source": [
    "len(word_vec_dict)"
   ]
  },
  {
   "cell_type": "code",
   "execution_count": 545,
   "metadata": {},
   "outputs": [],
   "source": [
    "from sklearn.manifold import TSNE\n",
    "\n",
    "# Initialize t-SNE\n",
    "tsne = TSNE(n_components = 2, init = 'random', random_state = 10, perplexity = 100)\n",
    "\n",
    "# Use only 400 rows to shorten processing time\n",
    "tsne_df = tsne.fit_transform(df[:400])"
   ]
  },
  {
   "cell_type": "code",
   "execution_count": 546,
   "metadata": {},
   "outputs": [
    {
     "data": {
      "text/plain": [
       "(400, 2)"
      ]
     },
     "execution_count": 546,
     "metadata": {},
     "output_type": "execute_result"
    }
   ],
   "source": [
    "tsne_df.shape"
   ]
  },
  {
   "cell_type": "code",
   "execution_count": 547,
   "metadata": {},
   "outputs": [
    {
     "name": "stdout",
     "output_type": "stream",
     "text": [
      "10 docs removed\n",
      "0 docs removed\n"
     ]
    }
   ],
   "source": [
    "# Preprocess the corpus\n",
    "corpus = [preprocess(title) for title in titles_list]\n",
    "\n",
    "# Remove docs that don't include any words in W2V's vocab\n",
    "corpus, titles_list = filter_docs(corpus, titles_list, lambda doc: has_vector_representation(model, doc))\n",
    "\n",
    "# Filter out any empty docs\n",
    "corpus, titles_list = filter_docs(corpus, titles_list, lambda doc: (len(doc) != 0))"
   ]
  },
  {
   "cell_type": "code",
   "execution_count": 548,
   "metadata": {},
   "outputs": [],
   "source": [
    "# Initialize an array for the size of the corpus\n",
    "x = []\n",
    "for doc in corpus: # append the vector for each document\n",
    "    x.append(document_vector(model, doc))\n",
    "    \n",
    "X = np.array(x) # list to array"
   ]
  },
  {
   "cell_type": "code",
   "execution_count": 549,
   "metadata": {},
   "outputs": [
    {
     "data": {
      "text/plain": [
       "37278"
      ]
     },
     "execution_count": 549,
     "metadata": {},
     "output_type": "execute_result"
    }
   ],
   "source": [
    "len(titles_list)"
   ]
  },
  {
   "cell_type": "code",
   "execution_count": 550,
   "metadata": {},
   "outputs": [],
   "source": [
    "# Initialize t-SNE\n",
    "tsne = TSNE(n_components = 2, init = 'random', random_state = 10, perplexity = 100)\n",
    "\n",
    "# Use only 400 rows to shorten processing time\n",
    "tsne_df = tsne.fit_transform(X[:400])"
   ]
  },
  {
   "cell_type": "code",
   "execution_count": 551,
   "metadata": {},
   "outputs": [
    {
     "data": {
      "text/plain": [
       "(37288, 9)"
      ]
     },
     "execution_count": 551,
     "metadata": {},
     "output_type": "execute_result"
    }
   ],
   "source": [
    "test.shape"
   ]
  },
  {
   "cell_type": "code",
   "execution_count": 552,
   "metadata": {},
   "outputs": [
    {
     "data": {
      "text/plain": [
       "count                         37288\n",
       "mean     16938 days 07:42:49.347269\n",
       "std         29 days 05:45:24.988225\n",
       "min             16889 days 01:41:12\n",
       "25%      16912 days 13:20:51.750000\n",
       "50%             16937 days 23:52:52\n",
       "75%      16964 days 05:26:18.750000\n",
       "max             16989 days 16:16:11\n",
       "Name: TimeSinceEpoch, dtype: object"
      ]
     },
     "execution_count": 552,
     "metadata": {},
     "output_type": "execute_result"
    }
   ],
   "source": [
    "import datetime\n",
    "\n",
    "# Convert publish date column to make it compatible with other datetime objects\n",
    "\n",
    "test['PublishDate'] = pd.to_datetime(test['PublishDate'])\n",
    "\n",
    "# Time since Linux Epoch\n",
    "t = datetime.datetime(1970, 1, 1)\n",
    "\n",
    "# Subtract this time from each article's publish date\n",
    "test['TimeSinceEpoch'] = test['PublishDate'] - t\n",
    "\n",
    "# Create another column for just the days from the timedelta objects \n",
    "test['DaysSinceEpoch'] = test['TimeSinceEpoch'].astype('timedelta64[D]')\n",
    "\n",
    "test['TimeSinceEpoch'].describe()"
   ]
  },
  {
   "cell_type": "code",
   "execution_count": 553,
   "metadata": {},
   "outputs": [],
   "source": [
    "pca = PCA(n_components=15, random_state=10) \n",
    "# as a reminder, x is the array with our 300-dimensional vectors\n",
    "reduced_vecs = pca.fit_transform(x) \n",
    "df_w_vectors = pd.DataFrame(reduced_vecs) \n",
    "df_w_vectors [ 'Title'] = titles_list \n",
    "# Use pd.concat to match original titles with their vectors\n",
    "main_w_vectors = pd.concat ((df_w_vectors, test), axis = 1)\n",
    "# Get rid of vectors that could not be matched with the main_df\n",
    "#main_w_vectors .dropna(axis=0, inplace=True)"
   ]
  },
  {
   "cell_type": "code",
   "execution_count": 554,
   "metadata": {},
   "outputs": [
    {
     "data": {
      "text/plain": [
       "(37288, 27)"
      ]
     },
     "execution_count": 554,
     "metadata": {},
     "output_type": "execute_result"
    }
   ],
   "source": [
    "main_w_vectors.shape"
   ]
  },
  {
   "cell_type": "code",
   "execution_count": 555,
   "metadata": {},
   "outputs": [
    {
     "name": "stderr",
     "output_type": "stream",
     "text": [
      "C:\\Users\\Adarsh\\Anaconda3\\lib\\site-packages\\ipykernel_launcher.py:5: SettingWithCopyWarning: \n",
      "A value is trying to be set on a copy of a slice from a DataFrame.\n",
      "Try using .loc[row_indexer,col_indexer] = value instead\n",
      "\n",
      "See the caveats in the documentation: http://pandas.pydata.org/pandas-docs/stable/indexing.html#indexing-view-versus-copy\n",
      "  \"\"\"\n",
      "C:\\Users\\Adarsh\\Anaconda3\\lib\\site-packages\\ipykernel_launcher.py:11: SettingWithCopyWarning: \n",
      "A value is trying to be set on a copy of a slice from a DataFrame.\n",
      "Try using .loc[row_indexer,col_indexer] = value instead\n",
      "\n",
      "See the caveats in the documentation: http://pandas.pydata.org/pandas-docs/stable/indexing.html#indexing-view-versus-copy\n",
      "  # This is added back by InteractiveShellApp.init_path()\n",
      "C:\\Users\\Adarsh\\Anaconda3\\lib\\site-packages\\ipykernel_launcher.py:12: SettingWithCopyWarning: \n",
      "A value is trying to be set on a copy of a slice from a DataFrame.\n",
      "Try using .loc[row_indexer,col_indexer] = value instead\n",
      "\n",
      "See the caveats in the documentation: http://pandas.pydata.org/pandas-docs/stable/indexing.html#indexing-view-versus-copy\n",
      "  if sys.path[0] == '':\n",
      "C:\\Users\\Adarsh\\Anaconda3\\lib\\site-packages\\pandas\\core\\frame.py:3940: SettingWithCopyWarning: \n",
      "A value is trying to be set on a copy of a slice from a DataFrame\n",
      "\n",
      "See the caveats in the documentation: http://pandas.pydata.org/pandas-docs/stable/indexing.html#indexing-view-versus-copy\n",
      "  errors=errors)\n"
     ]
    },
    {
     "data": {
      "text/plain": [
       "count    3.728800e+04\n",
       "mean    -1.612251e-14\n",
       "std      1.000013e+00\n",
       "min     -1.668814e+00\n",
       "25%     -8.823607e-01\n",
       "50%     -2.751961e-02\n",
       "75%      8.957088e-01\n",
       "max      1.750550e+00\n",
       "Name: StandardizedDays, dtype: float64"
      ]
     },
     "execution_count": 555,
     "metadata": {},
     "output_type": "execute_result"
    }
   ],
   "source": [
    "cols_to_drop = ['Title', 'TimeSinceEpoch', 'Headline', 'PublishDate', 'Source'] \n",
    "le = LabelEncoder()\n",
    "data_only_df=pd.DataFrame()\n",
    "data_only_df = main_w_vectors.drop(columns = cols_to_drop) \n",
    "data_only_df['Topic'] = le.fit_transform(main_w_vectors['Topic'].astype(str)) \n",
    "# Standardize DaysSinceEpoch since the raw numbers are larger in magnitude\n",
    "from sklearn.preprocessing import StandardScaler\n",
    "scaler = StandardScaler () \n",
    "# Reshape so we can feed the column to the scaler \n",
    "Standardized_days = np.array(data_only_df['DaysSinceEpoch']).reshape(-1, 1) \n",
    "data_only_df['StandardizedDays']=0.0\n",
    "data_only_df['StandardizedDays'] = scaler.fit_transform(Standardized_days) \n",
    "# Drop the raw column; we don't need it anymore \n",
    "data_only_df.drop (columns=['DaysSinceEpoch'], inplace=True)\n",
    "# Look at the new range \n",
    "data_only_df['StandardizedDays'].describe()"
   ]
  },
  {
   "cell_type": "code",
   "execution_count": 556,
   "metadata": {},
   "outputs": [
    {
     "name": "stderr",
     "output_type": "stream",
     "text": [
      "C:\\Users\\Adarsh\\Anaconda3\\lib\\site-packages\\pandas\\core\\generic.py:6130: SettingWithCopyWarning: \n",
      "A value is trying to be set on a copy of a slice from a DataFrame\n",
      "\n",
      "See the caveats in the documentation: http://pandas.pydata.org/pandas-docs/stable/indexing.html#indexing-view-versus-copy\n",
      "  self._update_inplace(new_data)\n"
     ]
    }
   ],
   "source": [
    "for i in data_only_df.columns:\n",
    "    if data_only_df[i].isnull().sum()>1:\n",
    "        data_only_df[i].fillna(data_only_df[i].median(), inplace=True)"
   ]
  },
  {
   "cell_type": "code",
   "execution_count": 557,
   "metadata": {},
   "outputs": [
    {
     "data": {
      "text/plain": [
       "0                   0\n",
       "1                   0\n",
       "2                   0\n",
       "3                   0\n",
       "4                   0\n",
       "5                   0\n",
       "6                   0\n",
       "7                   0\n",
       "8                   0\n",
       "9                   0\n",
       "10                  0\n",
       "11                  0\n",
       "12                  0\n",
       "13                  0\n",
       "14                  0\n",
       "IDLink              0\n",
       "Topic               0\n",
       "Facebook            0\n",
       "GooglePlus          0\n",
       "LinkedIn            0\n",
       "StandardizedDays    0\n",
       "dtype: int64"
      ]
     },
     "execution_count": 557,
     "metadata": {},
     "output_type": "execute_result"
    }
   ],
   "source": [
    "data_only_df.isnull().sum()"
   ]
  },
  {
   "cell_type": "code",
   "execution_count": 558,
   "metadata": {},
   "outputs": [],
   "source": [
    "title=data_only_df[Freatures_Title]\n",
    "headline=data_only_df[Freatures_Headline]\n",
    "submission=pd.DataFrame()"
   ]
  },
  {
   "cell_type": "code",
   "execution_count": 559,
   "metadata": {},
   "outputs": [],
   "source": [
    "y_predtitle=reg.predict(title)\n",
    "y_predheadline=reg_Head.predict(headline)"
   ]
  },
  {
   "cell_type": "code",
   "execution_count": 560,
   "metadata": {},
   "outputs": [],
   "source": [
    "submission['IDLink']=data_only_df['IDLink']"
   ]
  },
  {
   "cell_type": "code",
   "execution_count": 561,
   "metadata": {},
   "outputs": [
    {
     "data": {
      "text/plain": [
       "(37288, 1)"
      ]
     },
     "execution_count": 561,
     "metadata": {},
     "output_type": "execute_result"
    }
   ],
   "source": [
    "submission.shape"
   ]
  },
  {
   "cell_type": "code",
   "execution_count": 562,
   "metadata": {},
   "outputs": [],
   "source": [
    "submission['SentimentTitle']=y_predtitle\n",
    "submission['SentimentHeadline']=y_predheadline"
   ]
  },
  {
   "cell_type": "code",
   "execution_count": 563,
   "metadata": {},
   "outputs": [
    {
     "data": {
      "text/plain": [
       "(37288, 3)"
      ]
     },
     "execution_count": 563,
     "metadata": {},
     "output_type": "execute_result"
    }
   ],
   "source": [
    "submission.shape"
   ]
  },
  {
   "cell_type": "code",
   "execution_count": 564,
   "metadata": {},
   "outputs": [
    {
     "data": {
      "text/html": [
       "<div>\n",
       "<style scoped>\n",
       "    .dataframe tbody tr th:only-of-type {\n",
       "        vertical-align: middle;\n",
       "    }\n",
       "\n",
       "    .dataframe tbody tr th {\n",
       "        vertical-align: top;\n",
       "    }\n",
       "\n",
       "    .dataframe thead th {\n",
       "        text-align: right;\n",
       "    }\n",
       "</style>\n",
       "<table border=\"1\" class=\"dataframe\">\n",
       "  <thead>\n",
       "    <tr style=\"text-align: right;\">\n",
       "      <th></th>\n",
       "      <th>IDLink</th>\n",
       "      <th>SentimentTitle</th>\n",
       "      <th>SentimentHeadline</th>\n",
       "    </tr>\n",
       "  </thead>\n",
       "  <tbody>\n",
       "    <tr>\n",
       "      <th>0</th>\n",
       "      <td>tFrqIR6Chj</td>\n",
       "      <td>0.022379</td>\n",
       "      <td>-0.042269</td>\n",
       "    </tr>\n",
       "    <tr>\n",
       "      <th>1</th>\n",
       "      <td>DVAaGErjlF</td>\n",
       "      <td>-0.024393</td>\n",
       "      <td>-0.005202</td>\n",
       "    </tr>\n",
       "    <tr>\n",
       "      <th>2</th>\n",
       "      <td>OT9UIZm5M2</td>\n",
       "      <td>-0.056579</td>\n",
       "      <td>-0.137164</td>\n",
       "    </tr>\n",
       "    <tr>\n",
       "      <th>3</th>\n",
       "      <td>lflGp3q2Fj</td>\n",
       "      <td>-0.032092</td>\n",
       "      <td>-0.051259</td>\n",
       "    </tr>\n",
       "    <tr>\n",
       "      <th>4</th>\n",
       "      <td>zDYG0SoovZ</td>\n",
       "      <td>-0.008465</td>\n",
       "      <td>-0.047002</td>\n",
       "    </tr>\n",
       "  </tbody>\n",
       "</table>\n",
       "</div>"
      ],
      "text/plain": [
       "       IDLink  SentimentTitle  SentimentHeadline\n",
       "0  tFrqIR6Chj        0.022379          -0.042269\n",
       "1  DVAaGErjlF       -0.024393          -0.005202\n",
       "2  OT9UIZm5M2       -0.056579          -0.137164\n",
       "3  lflGp3q2Fj       -0.032092          -0.051259\n",
       "4  zDYG0SoovZ       -0.008465          -0.047002"
      ]
     },
     "execution_count": 564,
     "metadata": {},
     "output_type": "execute_result"
    }
   ],
   "source": [
    "submission.head()"
   ]
  },
  {
   "cell_type": "code",
   "execution_count": 565,
   "metadata": {},
   "outputs": [],
   "source": [
    "submission.to_csv('submission_file.csv')"
   ]
  },
  {
   "cell_type": "code",
   "execution_count": null,
   "metadata": {},
   "outputs": [],
   "source": []
  }
 ],
 "metadata": {
  "kernelspec": {
   "display_name": "Python 3",
   "language": "python",
   "name": "python3"
  },
  "language_info": {
   "codemirror_mode": {
    "name": "ipython",
    "version": 3
   },
   "file_extension": ".py",
   "mimetype": "text/x-python",
   "name": "python",
   "nbconvert_exporter": "python",
   "pygments_lexer": "ipython3",
   "version": "3.7.4"
  }
 },
 "nbformat": 4,
 "nbformat_minor": 2
}
